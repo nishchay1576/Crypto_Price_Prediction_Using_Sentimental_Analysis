{
 "cells": [
  {
   "cell_type": "code",
   "execution_count": 1,
   "id": "fde33106",
   "metadata": {},
   "outputs": [],
   "source": [
    "import pandas as pd"
   ]
  },
  {
   "cell_type": "code",
   "execution_count": 253,
   "id": "360e2b15",
   "metadata": {},
   "outputs": [],
   "source": [
    "df1 = pd.read_csv(\"/Users/apple/Documents/Lambton College/Sem 2/AML 2404/Project/Python_Code/bitcoin.csv\")"
   ]
  },
  {
   "cell_type": "code",
   "execution_count": 241,
   "id": "65d17530",
   "metadata": {},
   "outputs": [],
   "source": [
    "df2 = pd.read_excel(\"/Users/apple/Documents/Lambton College/Sem 2/AML 2404/Project/Untitled Folder/try.xlsx\")"
   ]
  },
  {
   "cell_type": "code",
   "execution_count": 273,
   "id": "eb591d37",
   "metadata": {
    "scrolled": false
   },
   "outputs": [
    {
     "data": {
      "text/html": [
       "<div>\n",
       "<style scoped>\n",
       "    .dataframe tbody tr th:only-of-type {\n",
       "        vertical-align: middle;\n",
       "    }\n",
       "\n",
       "    .dataframe tbody tr th {\n",
       "        vertical-align: top;\n",
       "    }\n",
       "\n",
       "    .dataframe thead th {\n",
       "        text-align: right;\n",
       "    }\n",
       "</style>\n",
       "<table border=\"1\" class=\"dataframe\">\n",
       "  <thead>\n",
       "    <tr style=\"text-align: right;\">\n",
       "      <th></th>\n",
       "      <th>Date</th>\n",
       "      <th>Close</th>\n",
       "      <th>_dates</th>\n",
       "    </tr>\n",
       "  </thead>\n",
       "  <tbody>\n",
       "    <tr>\n",
       "      <th>0</th>\n",
       "      <td>2015-01-13</td>\n",
       "      <td>225.86</td>\n",
       "      <td>2015-01-13</td>\n",
       "    </tr>\n",
       "    <tr>\n",
       "      <th>1</th>\n",
       "      <td>2015-01-12</td>\n",
       "      <td>267.80</td>\n",
       "      <td>2015-01-12</td>\n",
       "    </tr>\n",
       "    <tr>\n",
       "      <th>2</th>\n",
       "      <td>2015-01-11</td>\n",
       "      <td>265.66</td>\n",
       "      <td>2015-01-11</td>\n",
       "    </tr>\n",
       "    <tr>\n",
       "      <th>3</th>\n",
       "      <td>2015-01-10</td>\n",
       "      <td>274.80</td>\n",
       "      <td>2015-01-10</td>\n",
       "    </tr>\n",
       "    <tr>\n",
       "      <th>4</th>\n",
       "      <td>2015-01-09</td>\n",
       "      <td>290.41</td>\n",
       "      <td>2015-01-09</td>\n",
       "    </tr>\n",
       "    <tr>\n",
       "      <th>...</th>\n",
       "      <td>...</td>\n",
       "      <td>...</td>\n",
       "      <td>...</td>\n",
       "    </tr>\n",
       "    <tr>\n",
       "      <th>621</th>\n",
       "      <td>2013-05-02</td>\n",
       "      <td>105.21</td>\n",
       "      <td>2013-05-02</td>\n",
       "    </tr>\n",
       "    <tr>\n",
       "      <th>622</th>\n",
       "      <td>2013-05-01</td>\n",
       "      <td>116.99</td>\n",
       "      <td>2013-05-01</td>\n",
       "    </tr>\n",
       "    <tr>\n",
       "      <th>623</th>\n",
       "      <td>2013-04-30</td>\n",
       "      <td>139.00</td>\n",
       "      <td>2013-04-30</td>\n",
       "    </tr>\n",
       "    <tr>\n",
       "      <th>624</th>\n",
       "      <td>2013-04-29</td>\n",
       "      <td>144.54</td>\n",
       "      <td>2013-04-29</td>\n",
       "    </tr>\n",
       "    <tr>\n",
       "      <th>625</th>\n",
       "      <td>2013-04-28</td>\n",
       "      <td>134.21</td>\n",
       "      <td>2013-04-28</td>\n",
       "    </tr>\n",
       "  </tbody>\n",
       "</table>\n",
       "<p>626 rows × 3 columns</p>\n",
       "</div>"
      ],
      "text/plain": [
       "           Date   Close      _dates\n",
       "0    2015-01-13  225.86  2015-01-13\n",
       "1    2015-01-12  267.80  2015-01-12\n",
       "2    2015-01-11  265.66  2015-01-11\n",
       "3    2015-01-10  274.80  2015-01-10\n",
       "4    2015-01-09  290.41  2015-01-09\n",
       "..          ...     ...         ...\n",
       "621  2013-05-02  105.21  2013-05-02\n",
       "622  2013-05-01  116.99  2013-05-01\n",
       "623  2013-04-30  139.00  2013-04-30\n",
       "624  2013-04-29  144.54  2013-04-29\n",
       "625  2013-04-28  134.21  2013-04-28\n",
       "\n",
       "[626 rows x 3 columns]"
      ]
     },
     "execution_count": 273,
     "metadata": {},
     "output_type": "execute_result"
    }
   ],
   "source": [
    "df1"
   ]
  },
  {
   "cell_type": "code",
   "execution_count": 256,
   "id": "873a88c7",
   "metadata": {},
   "outputs": [],
   "source": [
    "df1 = df1.loc[:, df1.columns.intersection(['Date','Close'])]"
   ]
  },
  {
   "cell_type": "code",
   "execution_count": 279,
   "id": "14e3a93e",
   "metadata": {},
   "outputs": [
    {
     "data": {
      "text/html": [
       "<div>\n",
       "<style scoped>\n",
       "    .dataframe tbody tr th:only-of-type {\n",
       "        vertical-align: middle;\n",
       "    }\n",
       "\n",
       "    .dataframe tbody tr th {\n",
       "        vertical-align: top;\n",
       "    }\n",
       "\n",
       "    .dataframe thead th {\n",
       "        text-align: right;\n",
       "    }\n",
       "</style>\n",
       "<table border=\"1\" class=\"dataframe\">\n",
       "  <thead>\n",
       "    <tr style=\"text-align: right;\">\n",
       "      <th></th>\n",
       "      <th>Date</th>\n",
       "      <th>Label</th>\n",
       "      <th>Unnamed: 2</th>\n",
       "      <th>Unnamed: 3</th>\n",
       "      <th>Unnamed: 4</th>\n",
       "      <th>Unnamed: 5</th>\n",
       "      <th>Unnamed: 6</th>\n",
       "      <th>Unnamed: 7</th>\n",
       "      <th>Unnamed: 8</th>\n",
       "      <th>Unnamed: 9</th>\n",
       "      <th>...</th>\n",
       "      <th>Unnamed: 18</th>\n",
       "      <th>Unnamed: 19</th>\n",
       "      <th>Unnamed: 20</th>\n",
       "      <th>Unnamed: 21</th>\n",
       "      <th>Unnamed: 22</th>\n",
       "      <th>Unnamed: 23</th>\n",
       "      <th>Unnamed: 24</th>\n",
       "      <th>Unnamed: 25</th>\n",
       "      <th>Unnamed: 26</th>\n",
       "      <th>_dates</th>\n",
       "    </tr>\n",
       "  </thead>\n",
       "  <tbody>\n",
       "    <tr>\n",
       "      <th>0</th>\n",
       "      <td>2013-04-26</td>\n",
       "      <td>0</td>\n",
       "      <td>\\tAmir Khan survives knockdown but fails to co...</td>\n",
       "      <td>\\tHorse racing tips: Sunday 28 April</td>\n",
       "      <td>\\tParent groups join nurseries to fight new ca...</td>\n",
       "      <td>\\tSPL roundup: St Johnstone beat Caley to stay...</td>\n",
       "      <td>\\tOthello ‚Äì review</td>\n",
       "      <td>\\tShostakovich: Symphony No 7 'Leningrad' ‚Äì ...</td>\n",
       "      <td>\\tIn the Fog ‚Äì review</td>\n",
       "      <td>\\tJuan Diego Fl√≥rez and¬†friends; Ksenija Sid...</td>\n",
       "      <td>...</td>\n",
       "      <td>\\tClubbers mix former legal high mephedrone wi...</td>\n",
       "      <td>\\tGove's boarding academy borders on the ridic...</td>\n",
       "      <td>\\tiTunes is 10 years old today. Was it the bes...</td>\n",
       "      <td>\\tIt's fine to boost the arts, but we should f...</td>\n",
       "      <td>\\tEgyptians grab ancient land of the pharaohs ...</td>\n",
       "      <td>\\tMobile networks see bright future for electr...</td>\n",
       "      <td>\\tElection favourite's daughter takes to the s...</td>\n",
       "      <td>\\tFor the record</td>\n",
       "      <td>\\tHelp to Buy risks helping to create another ...</td>\n",
       "      <td>2013-04-26</td>\n",
       "    </tr>\n",
       "    <tr>\n",
       "      <th>1</th>\n",
       "      <td>2013-04-29</td>\n",
       "      <td>0</td>\n",
       "      <td>\\tLimited abortion rights introduced in histor...</td>\n",
       "      <td>\\tReal Madrid 2-0 Borussia Dortmund | Champion...</td>\n",
       "      <td>\\tStar Trek Into Darkness ‚Äì review</td>\n",
       "      <td>\\tMillwall 0-0 Crystal Palace | Championship m...</td>\n",
       "      <td>\\tScottish independence quest hampered by poli...</td>\n",
       "      <td>\\tBreast implants may harm breast cancer survi...</td>\n",
       "      <td>\\tVince Cable presses for decision on RBS pros...</td>\n",
       "      <td>\\tThe curious case of George Best's disappeari...</td>\n",
       "      <td>...</td>\n",
       "      <td>\\tHugh Muir's diary: How the welfare secretary...</td>\n",
       "      <td>\\tIn praise of ‚Ä¶ the flowing Brook | Editorial</td>\n",
       "      <td>\\tEverton's manager David Moyes sings the prai...</td>\n",
       "      <td>\\tWeatherwatch: What are the definite signs of...</td>\n",
       "      <td>\\tGuant√°namo Bay: an indelible stain | Editorial</td>\n",
       "      <td>\\tSpending review: vital, bloody ‚Äì and point...</td>\n",
       "      <td>\\tChris Froome rejects Bradley Wiggins's Team ...</td>\n",
       "      <td>\\tLions squad presents soft underbelly in fly-...</td>\n",
       "      <td>\\tLions squad 2013: More hopes dashed than eve...</td>\n",
       "      <td>2013-04-29</td>\n",
       "    </tr>\n",
       "    <tr>\n",
       "      <th>2</th>\n",
       "      <td>2013-04-30</td>\n",
       "      <td>1</td>\n",
       "      <td>\\tBayern Munich's beating of Barcelona will se...</td>\n",
       "      <td>\\tMidsomer Murders keeps Danes glued to TV</td>\n",
       "      <td>\\tBarcelona 'are not the best any more', admit...</td>\n",
       "      <td>\\tHospitals 'are ignoring advice on caesarean ...</td>\n",
       "      <td>\\tGeorge Osborne claims progress in tax haven ...</td>\n",
       "      <td>\\tSudoku 2,488 hard</td>\n",
       "      <td>\\tLiverpool's new home kit based on European C...</td>\n",
       "      <td>\\tSteve Bell on the death of three British sol...</td>\n",
       "      <td>...</td>\n",
       "      <td>\\tWhen in London ... what Bayern and Dortmund ...</td>\n",
       "      <td>\\tReferees to get more power as Fifa launches ...</td>\n",
       "      <td>\\tFBI accuse trio of dumping backpack found in...</td>\n",
       "      <td>\\tIn praise of ‚Ä¶ Rallings and Thrasher | Edi...</td>\n",
       "      <td>\\tDevelopment: aid, trade and ideas | Editorial</td>\n",
       "      <td>\\tENRC founders face Dutch fraud lawsuit</td>\n",
       "      <td>\\tLiverpool do not want Europa League place vi...</td>\n",
       "      <td>\\tEverton captaincy should be the making of me...</td>\n",
       "      <td>\\tNHS 111 helpline 'failing to meet targets'</td>\n",
       "      <td>2013-04-30</td>\n",
       "    </tr>\n",
       "    <tr>\n",
       "      <th>3</th>\n",
       "      <td>2013-05-01</td>\n",
       "      <td>1</td>\n",
       "      <td>\\tUS reconsiders its opposition to arming Syri...</td>\n",
       "      <td>\\tForce-feeding at Guant√°namo Bay puts pressu...</td>\n",
       "      <td>\\tBBC's climate of fear let bullies thrive, re...</td>\n",
       "      <td>\\tRafael Ben√≠tez asks for respect from Chelse...</td>\n",
       "      <td>\\tBreast cancer rates increase among younger w...</td>\n",
       "      <td>\\tRafa Ben√≠tez on a mission but Chelsea dream...</td>\n",
       "      <td>\\tFloyd Mayweather finds calm amid the chaos o...</td>\n",
       "      <td>\\tBody of Boston bombing suspect Tamerlan Tsar...</td>\n",
       "      <td>...</td>\n",
       "      <td>\\tHugh Muir's diary: you can help Eton in thes...</td>\n",
       "      <td>\\tIn praise of ‚Ä¶ fruitcake | Editorial</td>\n",
       "      <td>\\tHousing debt: mortgaging the future | Editorial</td>\n",
       "      <td>\\tFran√ßois Hollande: a year of living dangero...</td>\n",
       "      <td>\\tDragon ‚Äì review</td>\n",
       "      <td>\\tNoah and the Whale: Heart of Nowhere ‚Äì review</td>\n",
       "      <td>\\tJohn Murry: The Graceless Age ‚Äì review</td>\n",
       "      <td>\\tGareth Bale will stay at Tottenham next seas...</td>\n",
       "      <td>\\t21 &amp; Over ‚Äì review</td>\n",
       "      <td>2013-05-01</td>\n",
       "    </tr>\n",
       "    <tr>\n",
       "      <th>4</th>\n",
       "      <td>2013-05-02</td>\n",
       "      <td>0</td>\n",
       "      <td>\\tAmos Oz by Nicola Jennings</td>\n",
       "      <td>\\tFears patients may have suffered harm or die...</td>\n",
       "      <td>\\tStuart Hall put home in wife's name 'to avoi...</td>\n",
       "      <td>\\tTalking Horses | Chris Cook</td>\n",
       "      <td>\\tSudoku killer 343</td>\n",
       "      <td>\\tSudoku 2,490 hard</td>\n",
       "      <td>\\tI was exploited, claims Tony Fernandes after...</td>\n",
       "      <td>\\tRepublican friends dominate opening day of N...</td>\n",
       "      <td>...</td>\n",
       "      <td>\\tSteven Gerrard: 'Carra retiring makes you th...</td>\n",
       "      <td>\\tUnthinkable? Publish and be damned | Editorial</td>\n",
       "      <td>\\tMerseyside derby used to have a say in where...</td>\n",
       "      <td>\\tAston Villa's survival is all that concerns ...</td>\n",
       "      <td>\\tAndr√© Villas-Boas expects Manchester United...</td>\n",
       "      <td>\\tLocal elections: shouting from the shires | ...</td>\n",
       "      <td>\\tHollywood conservative unmasked as notorious...</td>\n",
       "      <td>\\tOak trees at risk as caterpillar peril sprea...</td>\n",
       "      <td>\\tAlan Pardew warns Newcastle United to be war...</td>\n",
       "      <td>2013-05-02</td>\n",
       "    </tr>\n",
       "  </tbody>\n",
       "</table>\n",
       "<p>5 rows × 28 columns</p>\n",
       "</div>"
      ],
      "text/plain": [
       "        Date  Label                                         Unnamed: 2  \\\n",
       "0 2013-04-26      0  \\tAmir Khan survives knockdown but fails to co...   \n",
       "1 2013-04-29      0  \\tLimited abortion rights introduced in histor...   \n",
       "2 2013-04-30      1  \\tBayern Munich's beating of Barcelona will se...   \n",
       "3 2013-05-01      1  \\tUS reconsiders its opposition to arming Syri...   \n",
       "4 2013-05-02      0                       \\tAmos Oz by Nicola Jennings   \n",
       "\n",
       "                                          Unnamed: 3  \\\n",
       "0               \\tHorse racing tips: Sunday 28 April   \n",
       "1  \\tReal Madrid 2-0 Borussia Dortmund | Champion...   \n",
       "2         \\tMidsomer Murders keeps Danes glued to TV   \n",
       "3  \\tForce-feeding at Guant√°namo Bay puts pressu...   \n",
       "4  \\tFears patients may have suffered harm or die...   \n",
       "\n",
       "                                          Unnamed: 4  \\\n",
       "0  \\tParent groups join nurseries to fight new ca...   \n",
       "1               \\tStar Trek Into Darkness ‚Äì review   \n",
       "2  \\tBarcelona 'are not the best any more', admit...   \n",
       "3  \\tBBC's climate of fear let bullies thrive, re...   \n",
       "4  \\tStuart Hall put home in wife's name 'to avoi...   \n",
       "\n",
       "                                          Unnamed: 5  \\\n",
       "0  \\tSPL roundup: St Johnstone beat Caley to stay...   \n",
       "1  \\tMillwall 0-0 Crystal Palace | Championship m...   \n",
       "2  \\tHospitals 'are ignoring advice on caesarean ...   \n",
       "3  \\tRafael Ben√≠tez asks for respect from Chelse...   \n",
       "4                      \\tTalking Horses | Chris Cook   \n",
       "\n",
       "                                          Unnamed: 6  \\\n",
       "0                               \\tOthello ‚Äì review   \n",
       "1  \\tScottish independence quest hampered by poli...   \n",
       "2  \\tGeorge Osborne claims progress in tax haven ...   \n",
       "3  \\tBreast cancer rates increase among younger w...   \n",
       "4                                \\tSudoku killer 343   \n",
       "\n",
       "                                          Unnamed: 7  \\\n",
       "0  \\tShostakovich: Symphony No 7 'Leningrad' ‚Äì ...   \n",
       "1  \\tBreast implants may harm breast cancer survi...   \n",
       "2                                \\tSudoku 2,488 hard   \n",
       "3  \\tRafa Ben√≠tez on a mission but Chelsea dream...   \n",
       "4                                \\tSudoku 2,490 hard   \n",
       "\n",
       "                                          Unnamed: 8  \\\n",
       "0                            \\tIn the Fog ‚Äì review   \n",
       "1  \\tVince Cable presses for decision on RBS pros...   \n",
       "2  \\tLiverpool's new home kit based on European C...   \n",
       "3  \\tFloyd Mayweather finds calm amid the chaos o...   \n",
       "4  \\tI was exploited, claims Tony Fernandes after...   \n",
       "\n",
       "                                          Unnamed: 9  ...  \\\n",
       "0  \\tJuan Diego Fl√≥rez and¬†friends; Ksenija Sid...  ...   \n",
       "1  \\tThe curious case of George Best's disappeari...  ...   \n",
       "2  \\tSteve Bell on the death of three British sol...  ...   \n",
       "3  \\tBody of Boston bombing suspect Tamerlan Tsar...  ...   \n",
       "4  \\tRepublican friends dominate opening day of N...  ...   \n",
       "\n",
       "                                         Unnamed: 18  \\\n",
       "0  \\tClubbers mix former legal high mephedrone wi...   \n",
       "1  \\tHugh Muir's diary: How the welfare secretary...   \n",
       "2  \\tWhen in London ... what Bayern and Dortmund ...   \n",
       "3  \\tHugh Muir's diary: you can help Eton in thes...   \n",
       "4  \\tSteven Gerrard: 'Carra retiring makes you th...   \n",
       "\n",
       "                                         Unnamed: 19  \\\n",
       "0  \\tGove's boarding academy borders on the ridic...   \n",
       "1   \\tIn praise of ‚Ä¶ the flowing Brook | Editorial   \n",
       "2  \\tReferees to get more power as Fifa launches ...   \n",
       "3           \\tIn praise of ‚Ä¶ fruitcake | Editorial   \n",
       "4   \\tUnthinkable? Publish and be damned | Editorial   \n",
       "\n",
       "                                         Unnamed: 20  \\\n",
       "0  \\tiTunes is 10 years old today. Was it the bes...   \n",
       "1  \\tEverton's manager David Moyes sings the prai...   \n",
       "2  \\tFBI accuse trio of dumping backpack found in...   \n",
       "3  \\tHousing debt: mortgaging the future | Editorial   \n",
       "4  \\tMerseyside derby used to have a say in where...   \n",
       "\n",
       "                                         Unnamed: 21  \\\n",
       "0  \\tIt's fine to boost the arts, but we should f...   \n",
       "1  \\tWeatherwatch: What are the definite signs of...   \n",
       "2  \\tIn praise of ‚Ä¶ Rallings and Thrasher | Edi...   \n",
       "3  \\tFran√ßois Hollande: a year of living dangero...   \n",
       "4  \\tAston Villa's survival is all that concerns ...   \n",
       "\n",
       "                                         Unnamed: 22  \\\n",
       "0  \\tEgyptians grab ancient land of the pharaohs ...   \n",
       "1  \\tGuant√°namo Bay: an indelible stain | Editorial   \n",
       "2    \\tDevelopment: aid, trade and ideas | Editorial   \n",
       "3                                \\tDragon ‚Äì review   \n",
       "4  \\tAndr√© Villas-Boas expects Manchester United...   \n",
       "\n",
       "                                         Unnamed: 23  \\\n",
       "0  \\tMobile networks see bright future for electr...   \n",
       "1  \\tSpending review: vital, bloody ‚Äì and point...   \n",
       "2           \\tENRC founders face Dutch fraud lawsuit   \n",
       "3  \\tNoah and the Whale: Heart of Nowhere ‚Äì review   \n",
       "4  \\tLocal elections: shouting from the shires | ...   \n",
       "\n",
       "                                         Unnamed: 24  \\\n",
       "0  \\tElection favourite's daughter takes to the s...   \n",
       "1  \\tChris Froome rejects Bradley Wiggins's Team ...   \n",
       "2  \\tLiverpool do not want Europa League place vi...   \n",
       "3         \\tJohn Murry: The Graceless Age ‚Äì review   \n",
       "4  \\tHollywood conservative unmasked as notorious...   \n",
       "\n",
       "                                         Unnamed: 25  \\\n",
       "0                                   \\tFor the record   \n",
       "1  \\tLions squad presents soft underbelly in fly-...   \n",
       "2  \\tEverton captaincy should be the making of me...   \n",
       "3  \\tGareth Bale will stay at Tottenham next seas...   \n",
       "4  \\tOak trees at risk as caterpillar peril sprea...   \n",
       "\n",
       "                                         Unnamed: 26      _dates  \n",
       "0  \\tHelp to Buy risks helping to create another ...  2013-04-26  \n",
       "1  \\tLions squad 2013: More hopes dashed than eve...  2013-04-29  \n",
       "2       \\tNHS 111 helpline 'failing to meet targets'  2013-04-30  \n",
       "3                             \\t21 & Over ‚Äì review  2013-05-01  \n",
       "4  \\tAlan Pardew warns Newcastle United to be war...  2013-05-02  \n",
       "\n",
       "[5 rows x 28 columns]"
      ]
     },
     "execution_count": 279,
     "metadata": {},
     "output_type": "execute_result"
    }
   ],
   "source": [
    "df2.head()"
   ]
  },
  {
   "cell_type": "code",
   "execution_count": 230,
   "id": "8d0b4026",
   "metadata": {},
   "outputs": [],
   "source": [
    "df1['Date'] = pd.to_datetime(df1['Date'], format='%m/%d/%y')"
   ]
  },
  {
   "cell_type": "code",
   "execution_count": 232,
   "id": "e5ba377d",
   "metadata": {},
   "outputs": [],
   "source": [
    "df1.to_csv('/Users/apple/Documents/Lambton College/Sem 2/AML 2404/Project/Python_Code/bitcoin.csv')"
   ]
  },
  {
   "cell_type": "code",
   "execution_count": 252,
   "id": "91e7ea3f",
   "metadata": {},
   "outputs": [
    {
     "ename": "KeyError",
     "evalue": "('Date', 'Close')",
     "output_type": "error",
     "traceback": [
      "\u001b[0;31m---------------------------------------------------------------------------\u001b[0m",
      "\u001b[0;31mKeyError\u001b[0m                                  Traceback (most recent call last)",
      "\u001b[0;32m~/opt/anaconda3/lib/python3.8/site-packages/pandas/core/indexes/base.py\u001b[0m in \u001b[0;36mget_loc\u001b[0;34m(self, key, method, tolerance)\u001b[0m\n\u001b[1;32m   3079\u001b[0m             \u001b[0;32mtry\u001b[0m\u001b[0;34m:\u001b[0m\u001b[0;34m\u001b[0m\u001b[0;34m\u001b[0m\u001b[0m\n\u001b[0;32m-> 3080\u001b[0;31m                 \u001b[0;32mreturn\u001b[0m \u001b[0mself\u001b[0m\u001b[0;34m.\u001b[0m\u001b[0m_engine\u001b[0m\u001b[0;34m.\u001b[0m\u001b[0mget_loc\u001b[0m\u001b[0;34m(\u001b[0m\u001b[0mcasted_key\u001b[0m\u001b[0;34m)\u001b[0m\u001b[0;34m\u001b[0m\u001b[0;34m\u001b[0m\u001b[0m\n\u001b[0m\u001b[1;32m   3081\u001b[0m             \u001b[0;32mexcept\u001b[0m \u001b[0mKeyError\u001b[0m \u001b[0;32mas\u001b[0m \u001b[0merr\u001b[0m\u001b[0;34m:\u001b[0m\u001b[0;34m\u001b[0m\u001b[0;34m\u001b[0m\u001b[0m\n",
      "\u001b[0;32mpandas/_libs/index.pyx\u001b[0m in \u001b[0;36mpandas._libs.index.IndexEngine.get_loc\u001b[0;34m()\u001b[0m\n",
      "\u001b[0;32mpandas/_libs/index.pyx\u001b[0m in \u001b[0;36mpandas._libs.index.IndexEngine.get_loc\u001b[0;34m()\u001b[0m\n",
      "\u001b[0;32mpandas/_libs/hashtable_class_helper.pxi\u001b[0m in \u001b[0;36mpandas._libs.hashtable.PyObjectHashTable.get_item\u001b[0;34m()\u001b[0m\n",
      "\u001b[0;32mpandas/_libs/hashtable_class_helper.pxi\u001b[0m in \u001b[0;36mpandas._libs.hashtable.PyObjectHashTable.get_item\u001b[0;34m()\u001b[0m\n",
      "\u001b[0;31mKeyError\u001b[0m: ('Date', 'Close')",
      "\nThe above exception was the direct cause of the following exception:\n",
      "\u001b[0;31mKeyError\u001b[0m                                  Traceback (most recent call last)",
      "\u001b[0;32m<ipython-input-252-7cbd2343a958>\u001b[0m in \u001b[0;36m<module>\u001b[0;34m\u001b[0m\n\u001b[0;32m----> 1\u001b[0;31m \u001b[0mdf1\u001b[0m \u001b[0;34m=\u001b[0m \u001b[0mdf1\u001b[0m\u001b[0;34m[\u001b[0m\u001b[0;34m'Date'\u001b[0m\u001b[0;34m,\u001b[0m\u001b[0;34m'Close'\u001b[0m\u001b[0;34m]\u001b[0m\u001b[0;34m\u001b[0m\u001b[0;34m\u001b[0m\u001b[0m\n\u001b[0m",
      "\u001b[0;32m~/opt/anaconda3/lib/python3.8/site-packages/pandas/core/frame.py\u001b[0m in \u001b[0;36m__getitem__\u001b[0;34m(self, key)\u001b[0m\n\u001b[1;32m   3022\u001b[0m             \u001b[0;32mif\u001b[0m \u001b[0mself\u001b[0m\u001b[0;34m.\u001b[0m\u001b[0mcolumns\u001b[0m\u001b[0;34m.\u001b[0m\u001b[0mnlevels\u001b[0m \u001b[0;34m>\u001b[0m \u001b[0;36m1\u001b[0m\u001b[0;34m:\u001b[0m\u001b[0;34m\u001b[0m\u001b[0;34m\u001b[0m\u001b[0m\n\u001b[1;32m   3023\u001b[0m                 \u001b[0;32mreturn\u001b[0m \u001b[0mself\u001b[0m\u001b[0;34m.\u001b[0m\u001b[0m_getitem_multilevel\u001b[0m\u001b[0;34m(\u001b[0m\u001b[0mkey\u001b[0m\u001b[0;34m)\u001b[0m\u001b[0;34m\u001b[0m\u001b[0;34m\u001b[0m\u001b[0m\n\u001b[0;32m-> 3024\u001b[0;31m             \u001b[0mindexer\u001b[0m \u001b[0;34m=\u001b[0m \u001b[0mself\u001b[0m\u001b[0;34m.\u001b[0m\u001b[0mcolumns\u001b[0m\u001b[0;34m.\u001b[0m\u001b[0mget_loc\u001b[0m\u001b[0;34m(\u001b[0m\u001b[0mkey\u001b[0m\u001b[0;34m)\u001b[0m\u001b[0;34m\u001b[0m\u001b[0;34m\u001b[0m\u001b[0m\n\u001b[0m\u001b[1;32m   3025\u001b[0m             \u001b[0;32mif\u001b[0m \u001b[0mis_integer\u001b[0m\u001b[0;34m(\u001b[0m\u001b[0mindexer\u001b[0m\u001b[0;34m)\u001b[0m\u001b[0;34m:\u001b[0m\u001b[0;34m\u001b[0m\u001b[0;34m\u001b[0m\u001b[0m\n\u001b[1;32m   3026\u001b[0m                 \u001b[0mindexer\u001b[0m \u001b[0;34m=\u001b[0m \u001b[0;34m[\u001b[0m\u001b[0mindexer\u001b[0m\u001b[0;34m]\u001b[0m\u001b[0;34m\u001b[0m\u001b[0;34m\u001b[0m\u001b[0m\n",
      "\u001b[0;32m~/opt/anaconda3/lib/python3.8/site-packages/pandas/core/indexes/base.py\u001b[0m in \u001b[0;36mget_loc\u001b[0;34m(self, key, method, tolerance)\u001b[0m\n\u001b[1;32m   3080\u001b[0m                 \u001b[0;32mreturn\u001b[0m \u001b[0mself\u001b[0m\u001b[0;34m.\u001b[0m\u001b[0m_engine\u001b[0m\u001b[0;34m.\u001b[0m\u001b[0mget_loc\u001b[0m\u001b[0;34m(\u001b[0m\u001b[0mcasted_key\u001b[0m\u001b[0;34m)\u001b[0m\u001b[0;34m\u001b[0m\u001b[0;34m\u001b[0m\u001b[0m\n\u001b[1;32m   3081\u001b[0m             \u001b[0;32mexcept\u001b[0m \u001b[0mKeyError\u001b[0m \u001b[0;32mas\u001b[0m \u001b[0merr\u001b[0m\u001b[0;34m:\u001b[0m\u001b[0;34m\u001b[0m\u001b[0;34m\u001b[0m\u001b[0m\n\u001b[0;32m-> 3082\u001b[0;31m                 \u001b[0;32mraise\u001b[0m \u001b[0mKeyError\u001b[0m\u001b[0;34m(\u001b[0m\u001b[0mkey\u001b[0m\u001b[0;34m)\u001b[0m \u001b[0;32mfrom\u001b[0m \u001b[0merr\u001b[0m\u001b[0;34m\u001b[0m\u001b[0;34m\u001b[0m\u001b[0m\n\u001b[0m\u001b[1;32m   3083\u001b[0m \u001b[0;34m\u001b[0m\u001b[0m\n\u001b[1;32m   3084\u001b[0m         \u001b[0;32mif\u001b[0m \u001b[0mtolerance\u001b[0m \u001b[0;32mis\u001b[0m \u001b[0;32mnot\u001b[0m \u001b[0;32mNone\u001b[0m\u001b[0;34m:\u001b[0m\u001b[0;34m\u001b[0m\u001b[0;34m\u001b[0m\u001b[0m\n",
      "\u001b[0;31mKeyError\u001b[0m: ('Date', 'Close')"
     ]
    }
   ],
   "source": [
    "df1 = df1['Date','Close']"
   ]
  },
  {
   "cell_type": "code",
   "execution_count": null,
   "id": "b99a6c40",
   "metadata": {},
   "outputs": [],
   "source": []
  },
  {
   "cell_type": "code",
   "execution_count": 258,
   "id": "30438c46",
   "metadata": {},
   "outputs": [],
   "source": [
    "df1[\"_dates\"] = pd.to_datetime(df1['Date']).dt.date"
   ]
  },
  {
   "cell_type": "code",
   "execution_count": 259,
   "id": "982440fc",
   "metadata": {},
   "outputs": [
    {
     "data": {
      "text/plain": [
       "0      2015-01-13\n",
       "1      2015-01-12\n",
       "2      2015-01-11\n",
       "3      2015-01-10\n",
       "4      2015-01-09\n",
       "          ...    \n",
       "621    2013-05-02\n",
       "622    2013-05-01\n",
       "623    2013-04-30\n",
       "624    2013-04-29\n",
       "625    2013-04-28\n",
       "Name: _dates, Length: 626, dtype: object"
      ]
     },
     "execution_count": 259,
     "metadata": {},
     "output_type": "execute_result"
    }
   ],
   "source": [
    "df1[\"_dates\"]"
   ]
  },
  {
   "cell_type": "code",
   "execution_count": 260,
   "id": "126b5e5a",
   "metadata": {},
   "outputs": [],
   "source": [
    "df2[\"_dates\"] = pd.to_datetime(df2['Date']).dt.date"
   ]
  },
  {
   "cell_type": "code",
   "execution_count": 261,
   "id": "3d779424",
   "metadata": {},
   "outputs": [
    {
     "data": {
      "text/plain": [
       "0      2013-04-26\n",
       "1      2013-04-29\n",
       "2      2013-04-30\n",
       "3      2013-05-01\n",
       "4      2013-05-02\n",
       "          ...    \n",
       "365    2014-10-01\n",
       "366    2014-10-02\n",
       "367    2014-10-03\n",
       "368    2014-10-06\n",
       "369    2014-10-07\n",
       "Name: _dates, Length: 370, dtype: object"
      ]
     },
     "execution_count": 261,
     "metadata": {},
     "output_type": "execute_result"
    }
   ],
   "source": [
    "df2[\"_dates\"]"
   ]
  },
  {
   "cell_type": "code",
   "execution_count": 278,
   "id": "0405a355",
   "metadata": {},
   "outputs": [],
   "source": [
    "if df1[\"_dates\"].reset_index(drop=True).equals(df2[\"_dates\"].reset_index(drop=True)):\n",
    "    df2[\"Close_price\"] = df1['Close']"
   ]
  },
  {
   "cell_type": "code",
   "execution_count": 265,
   "id": "42f44551",
   "metadata": {},
   "outputs": [
    {
     "ename": "ValueError",
     "evalue": "Can only compare identically-labeled Series objects",
     "output_type": "error",
     "traceback": [
      "\u001b[0;31m---------------------------------------------------------------------------\u001b[0m",
      "\u001b[0;31mValueError\u001b[0m                                Traceback (most recent call last)",
      "\u001b[0;32m<ipython-input-265-648b29c805e8>\u001b[0m in \u001b[0;36m<module>\u001b[0;34m\u001b[0m\n\u001b[1;32m      1\u001b[0m \u001b[0;32mfor\u001b[0m \u001b[0mi\u001b[0m \u001b[0;32min\u001b[0m \u001b[0mdf2\u001b[0m\u001b[0;34m[\u001b[0m\u001b[0;34m\"_dates\"\u001b[0m\u001b[0;34m]\u001b[0m\u001b[0;34m:\u001b[0m\u001b[0;34m\u001b[0m\u001b[0;34m\u001b[0m\u001b[0m\n\u001b[0;32m----> 2\u001b[0;31m     \u001b[0;32mif\u001b[0m \u001b[0mdf2\u001b[0m\u001b[0;34m[\u001b[0m\u001b[0;34m\"_dates\"\u001b[0m\u001b[0;34m]\u001b[0m \u001b[0;34m==\u001b[0m \u001b[0mdf1\u001b[0m\u001b[0;34m[\u001b[0m\u001b[0;34m\"_dates\"\u001b[0m\u001b[0;34m]\u001b[0m\u001b[0;34m:\u001b[0m\u001b[0;34m\u001b[0m\u001b[0;34m\u001b[0m\u001b[0m\n\u001b[0m\u001b[1;32m      3\u001b[0m         \u001b[0mpd\u001b[0m\u001b[0;34m.\u001b[0m\u001b[0mmerge\u001b[0m\u001b[0;34m(\u001b[0m\u001b[0mdf1\u001b[0m\u001b[0;34m,\u001b[0m\u001b[0mdf2\u001b[0m\u001b[0;34m,\u001b[0m\u001b[0mleft_on\u001b[0m\u001b[0;34m=\u001b[0m\u001b[0;34m'_dates'\u001b[0m\u001b[0;34m,\u001b[0m\u001b[0mright_on\u001b[0m\u001b[0;34m=\u001b[0m\u001b[0;34m'_dates'\u001b[0m\u001b[0;34m,\u001b[0m\u001b[0mhow\u001b[0m\u001b[0;34m=\u001b[0m\u001b[0;34m'right'\u001b[0m\u001b[0;34m)\u001b[0m\u001b[0;34m\u001b[0m\u001b[0;34m\u001b[0m\u001b[0m\n",
      "\u001b[0;32m~/opt/anaconda3/lib/python3.8/site-packages/pandas/core/ops/common.py\u001b[0m in \u001b[0;36mnew_method\u001b[0;34m(self, other)\u001b[0m\n\u001b[1;32m     63\u001b[0m         \u001b[0mother\u001b[0m \u001b[0;34m=\u001b[0m \u001b[0mitem_from_zerodim\u001b[0m\u001b[0;34m(\u001b[0m\u001b[0mother\u001b[0m\u001b[0;34m)\u001b[0m\u001b[0;34m\u001b[0m\u001b[0;34m\u001b[0m\u001b[0m\n\u001b[1;32m     64\u001b[0m \u001b[0;34m\u001b[0m\u001b[0m\n\u001b[0;32m---> 65\u001b[0;31m         \u001b[0;32mreturn\u001b[0m \u001b[0mmethod\u001b[0m\u001b[0;34m(\u001b[0m\u001b[0mself\u001b[0m\u001b[0;34m,\u001b[0m \u001b[0mother\u001b[0m\u001b[0;34m)\u001b[0m\u001b[0;34m\u001b[0m\u001b[0;34m\u001b[0m\u001b[0m\n\u001b[0m\u001b[1;32m     66\u001b[0m \u001b[0;34m\u001b[0m\u001b[0m\n\u001b[1;32m     67\u001b[0m     \u001b[0;32mreturn\u001b[0m \u001b[0mnew_method\u001b[0m\u001b[0;34m\u001b[0m\u001b[0;34m\u001b[0m\u001b[0m\n",
      "\u001b[0;32m~/opt/anaconda3/lib/python3.8/site-packages/pandas/core/arraylike.py\u001b[0m in \u001b[0;36m__eq__\u001b[0;34m(self, other)\u001b[0m\n\u001b[1;32m     27\u001b[0m     \u001b[0;34m@\u001b[0m\u001b[0munpack_zerodim_and_defer\u001b[0m\u001b[0;34m(\u001b[0m\u001b[0;34m\"__eq__\"\u001b[0m\u001b[0;34m)\u001b[0m\u001b[0;34m\u001b[0m\u001b[0;34m\u001b[0m\u001b[0m\n\u001b[1;32m     28\u001b[0m     \u001b[0;32mdef\u001b[0m \u001b[0m__eq__\u001b[0m\u001b[0;34m(\u001b[0m\u001b[0mself\u001b[0m\u001b[0;34m,\u001b[0m \u001b[0mother\u001b[0m\u001b[0;34m)\u001b[0m\u001b[0;34m:\u001b[0m\u001b[0;34m\u001b[0m\u001b[0;34m\u001b[0m\u001b[0m\n\u001b[0;32m---> 29\u001b[0;31m         \u001b[0;32mreturn\u001b[0m \u001b[0mself\u001b[0m\u001b[0;34m.\u001b[0m\u001b[0m_cmp_method\u001b[0m\u001b[0;34m(\u001b[0m\u001b[0mother\u001b[0m\u001b[0;34m,\u001b[0m \u001b[0moperator\u001b[0m\u001b[0;34m.\u001b[0m\u001b[0meq\u001b[0m\u001b[0;34m)\u001b[0m\u001b[0;34m\u001b[0m\u001b[0;34m\u001b[0m\u001b[0m\n\u001b[0m\u001b[1;32m     30\u001b[0m \u001b[0;34m\u001b[0m\u001b[0m\n\u001b[1;32m     31\u001b[0m     \u001b[0;34m@\u001b[0m\u001b[0munpack_zerodim_and_defer\u001b[0m\u001b[0;34m(\u001b[0m\u001b[0;34m\"__ne__\"\u001b[0m\u001b[0;34m)\u001b[0m\u001b[0;34m\u001b[0m\u001b[0;34m\u001b[0m\u001b[0m\n",
      "\u001b[0;32m~/opt/anaconda3/lib/python3.8/site-packages/pandas/core/series.py\u001b[0m in \u001b[0;36m_cmp_method\u001b[0;34m(self, other, op)\u001b[0m\n\u001b[1;32m   4971\u001b[0m \u001b[0;34m\u001b[0m\u001b[0m\n\u001b[1;32m   4972\u001b[0m         \u001b[0;32mif\u001b[0m \u001b[0misinstance\u001b[0m\u001b[0;34m(\u001b[0m\u001b[0mother\u001b[0m\u001b[0;34m,\u001b[0m \u001b[0mSeries\u001b[0m\u001b[0;34m)\u001b[0m \u001b[0;32mand\u001b[0m \u001b[0;32mnot\u001b[0m \u001b[0mself\u001b[0m\u001b[0;34m.\u001b[0m\u001b[0m_indexed_same\u001b[0m\u001b[0;34m(\u001b[0m\u001b[0mother\u001b[0m\u001b[0;34m)\u001b[0m\u001b[0;34m:\u001b[0m\u001b[0;34m\u001b[0m\u001b[0;34m\u001b[0m\u001b[0m\n\u001b[0;32m-> 4973\u001b[0;31m             \u001b[0;32mraise\u001b[0m \u001b[0mValueError\u001b[0m\u001b[0;34m(\u001b[0m\u001b[0;34m\"Can only compare identically-labeled Series objects\"\u001b[0m\u001b[0;34m)\u001b[0m\u001b[0;34m\u001b[0m\u001b[0;34m\u001b[0m\u001b[0m\n\u001b[0m\u001b[1;32m   4974\u001b[0m \u001b[0;34m\u001b[0m\u001b[0m\n\u001b[1;32m   4975\u001b[0m         \u001b[0mlvalues\u001b[0m \u001b[0;34m=\u001b[0m \u001b[0mextract_array\u001b[0m\u001b[0;34m(\u001b[0m\u001b[0mself\u001b[0m\u001b[0;34m,\u001b[0m \u001b[0mextract_numpy\u001b[0m\u001b[0;34m=\u001b[0m\u001b[0;32mTrue\u001b[0m\u001b[0;34m)\u001b[0m\u001b[0;34m\u001b[0m\u001b[0;34m\u001b[0m\u001b[0m\n",
      "\u001b[0;31mValueError\u001b[0m: Can only compare identically-labeled Series objects"
     ]
    }
   ],
   "source": [
    "for i in df2[\"_dates\"]:\n",
    "    if df2[\"_dates\"] == df1[\"_dates\"]:\n",
    "        pd.merge(df1,df2,left_on='_dates',right_on='_dates',how='right')\n"
   ]
  },
  {
   "cell_type": "code",
   "execution_count": 281,
   "id": "8a4bbfda",
   "metadata": {},
   "outputs": [
    {
     "ename": "ValueError",
     "evalue": "Can only compare identically-labeled Series objects",
     "output_type": "error",
     "traceback": [
      "\u001b[0;31m---------------------------------------------------------------------------\u001b[0m",
      "\u001b[0;31mValueError\u001b[0m                                Traceback (most recent call last)",
      "\u001b[0;32m<ipython-input-281-8cbbbcf14cda>\u001b[0m in \u001b[0;36m<module>\u001b[0;34m\u001b[0m\n\u001b[0;32m----> 1\u001b[0;31m \u001b[0mdf1\u001b[0m\u001b[0;34m[\u001b[0m\u001b[0;34m\"_dates\"\u001b[0m\u001b[0;34m]\u001b[0m\u001b[0;34m.\u001b[0m\u001b[0mreset_index\u001b[0m\u001b[0;34m(\u001b[0m\u001b[0mdrop\u001b[0m\u001b[0;34m=\u001b[0m\u001b[0;32mTrue\u001b[0m\u001b[0;34m)\u001b[0m\u001b[0;34m==\u001b[0m\u001b[0;34m(\u001b[0m\u001b[0mdf2\u001b[0m\u001b[0;34m[\u001b[0m\u001b[0;34m\"_dates\"\u001b[0m\u001b[0;34m]\u001b[0m\u001b[0;34m.\u001b[0m\u001b[0mreset_index\u001b[0m\u001b[0;34m(\u001b[0m\u001b[0mdrop\u001b[0m\u001b[0;34m=\u001b[0m\u001b[0;32mTrue\u001b[0m\u001b[0;34m)\u001b[0m\u001b[0;34m)\u001b[0m\u001b[0;34m\u001b[0m\u001b[0;34m\u001b[0m\u001b[0m\n\u001b[0m",
      "\u001b[0;32m~/opt/anaconda3/lib/python3.8/site-packages/pandas/core/ops/common.py\u001b[0m in \u001b[0;36mnew_method\u001b[0;34m(self, other)\u001b[0m\n\u001b[1;32m     63\u001b[0m         \u001b[0mother\u001b[0m \u001b[0;34m=\u001b[0m \u001b[0mitem_from_zerodim\u001b[0m\u001b[0;34m(\u001b[0m\u001b[0mother\u001b[0m\u001b[0;34m)\u001b[0m\u001b[0;34m\u001b[0m\u001b[0;34m\u001b[0m\u001b[0m\n\u001b[1;32m     64\u001b[0m \u001b[0;34m\u001b[0m\u001b[0m\n\u001b[0;32m---> 65\u001b[0;31m         \u001b[0;32mreturn\u001b[0m \u001b[0mmethod\u001b[0m\u001b[0;34m(\u001b[0m\u001b[0mself\u001b[0m\u001b[0;34m,\u001b[0m \u001b[0mother\u001b[0m\u001b[0;34m)\u001b[0m\u001b[0;34m\u001b[0m\u001b[0;34m\u001b[0m\u001b[0m\n\u001b[0m\u001b[1;32m     66\u001b[0m \u001b[0;34m\u001b[0m\u001b[0m\n\u001b[1;32m     67\u001b[0m     \u001b[0;32mreturn\u001b[0m \u001b[0mnew_method\u001b[0m\u001b[0;34m\u001b[0m\u001b[0;34m\u001b[0m\u001b[0m\n",
      "\u001b[0;32m~/opt/anaconda3/lib/python3.8/site-packages/pandas/core/arraylike.py\u001b[0m in \u001b[0;36m__eq__\u001b[0;34m(self, other)\u001b[0m\n\u001b[1;32m     27\u001b[0m     \u001b[0;34m@\u001b[0m\u001b[0munpack_zerodim_and_defer\u001b[0m\u001b[0;34m(\u001b[0m\u001b[0;34m\"__eq__\"\u001b[0m\u001b[0;34m)\u001b[0m\u001b[0;34m\u001b[0m\u001b[0;34m\u001b[0m\u001b[0m\n\u001b[1;32m     28\u001b[0m     \u001b[0;32mdef\u001b[0m \u001b[0m__eq__\u001b[0m\u001b[0;34m(\u001b[0m\u001b[0mself\u001b[0m\u001b[0;34m,\u001b[0m \u001b[0mother\u001b[0m\u001b[0;34m)\u001b[0m\u001b[0;34m:\u001b[0m\u001b[0;34m\u001b[0m\u001b[0;34m\u001b[0m\u001b[0m\n\u001b[0;32m---> 29\u001b[0;31m         \u001b[0;32mreturn\u001b[0m \u001b[0mself\u001b[0m\u001b[0;34m.\u001b[0m\u001b[0m_cmp_method\u001b[0m\u001b[0;34m(\u001b[0m\u001b[0mother\u001b[0m\u001b[0;34m,\u001b[0m \u001b[0moperator\u001b[0m\u001b[0;34m.\u001b[0m\u001b[0meq\u001b[0m\u001b[0;34m)\u001b[0m\u001b[0;34m\u001b[0m\u001b[0;34m\u001b[0m\u001b[0m\n\u001b[0m\u001b[1;32m     30\u001b[0m \u001b[0;34m\u001b[0m\u001b[0m\n\u001b[1;32m     31\u001b[0m     \u001b[0;34m@\u001b[0m\u001b[0munpack_zerodim_and_defer\u001b[0m\u001b[0;34m(\u001b[0m\u001b[0;34m\"__ne__\"\u001b[0m\u001b[0;34m)\u001b[0m\u001b[0;34m\u001b[0m\u001b[0;34m\u001b[0m\u001b[0m\n",
      "\u001b[0;32m~/opt/anaconda3/lib/python3.8/site-packages/pandas/core/series.py\u001b[0m in \u001b[0;36m_cmp_method\u001b[0;34m(self, other, op)\u001b[0m\n\u001b[1;32m   4971\u001b[0m \u001b[0;34m\u001b[0m\u001b[0m\n\u001b[1;32m   4972\u001b[0m         \u001b[0;32mif\u001b[0m \u001b[0misinstance\u001b[0m\u001b[0;34m(\u001b[0m\u001b[0mother\u001b[0m\u001b[0;34m,\u001b[0m \u001b[0mSeries\u001b[0m\u001b[0;34m)\u001b[0m \u001b[0;32mand\u001b[0m \u001b[0;32mnot\u001b[0m \u001b[0mself\u001b[0m\u001b[0;34m.\u001b[0m\u001b[0m_indexed_same\u001b[0m\u001b[0;34m(\u001b[0m\u001b[0mother\u001b[0m\u001b[0;34m)\u001b[0m\u001b[0;34m:\u001b[0m\u001b[0;34m\u001b[0m\u001b[0;34m\u001b[0m\u001b[0m\n\u001b[0;32m-> 4973\u001b[0;31m             \u001b[0;32mraise\u001b[0m \u001b[0mValueError\u001b[0m\u001b[0;34m(\u001b[0m\u001b[0;34m\"Can only compare identically-labeled Series objects\"\u001b[0m\u001b[0;34m)\u001b[0m\u001b[0;34m\u001b[0m\u001b[0;34m\u001b[0m\u001b[0m\n\u001b[0m\u001b[1;32m   4974\u001b[0m \u001b[0;34m\u001b[0m\u001b[0m\n\u001b[1;32m   4975\u001b[0m         \u001b[0mlvalues\u001b[0m \u001b[0;34m=\u001b[0m \u001b[0mextract_array\u001b[0m\u001b[0;34m(\u001b[0m\u001b[0mself\u001b[0m\u001b[0;34m,\u001b[0m \u001b[0mextract_numpy\u001b[0m\u001b[0;34m=\u001b[0m\u001b[0;32mTrue\u001b[0m\u001b[0;34m)\u001b[0m\u001b[0;34m\u001b[0m\u001b[0;34m\u001b[0m\u001b[0m\n",
      "\u001b[0;31mValueError\u001b[0m: Can only compare identically-labeled Series objects"
     ]
    }
   ],
   "source": [
    "df1[\"_dates\"].reset_index(drop=True)==(df2[\"_dates\"].reset_index(drop=True))"
   ]
  },
  {
   "cell_type": "code",
   "execution_count": 320,
   "id": "f1fe651d",
   "metadata": {},
   "outputs": [
    {
     "data": {
      "text/plain": [
       "621    2013-05-02\n",
       "622    2013-05-01\n",
       "623    2013-04-30\n",
       "624    2013-04-29\n",
       "625    2013-04-28\n",
       "Name: _dates, dtype: object"
      ]
     },
     "execution_count": 320,
     "metadata": {},
     "output_type": "execute_result"
    }
   ],
   "source": [
    "df = df1[\"_dates\"][-5:]\n",
    "df = df.dropna()\n",
    "df"
   ]
  },
  {
   "cell_type": "code",
   "execution_count": 321,
   "id": "6a941b8d",
   "metadata": {},
   "outputs": [
    {
     "data": {
      "text/plain": [
       "0    2013-04-26\n",
       "1    2013-04-29\n",
       "2    2013-04-30\n",
       "3    2013-05-01\n",
       "4    2013-05-02\n",
       "Name: _dates, dtype: object"
      ]
     },
     "execution_count": 321,
     "metadata": {},
     "output_type": "execute_result"
    }
   ],
   "source": [
    "df3 = df2[\"_dates\"][:5]\n",
    "df3 = df3.dropna()\n",
    "df3"
   ]
  },
  {
   "cell_type": "code",
   "execution_count": 328,
   "id": "e5a29202",
   "metadata": {},
   "outputs": [],
   "source": [
    "df['Close'] = ''"
   ]
  },
  {
   "cell_type": "code",
   "execution_count": 331,
   "id": "fe33c4ad",
   "metadata": {},
   "outputs": [
    {
     "data": {
      "text/plain": [
       "''"
      ]
     },
     "execution_count": 331,
     "metadata": {},
     "output_type": "execute_result"
    }
   ],
   "source": [
    "df['Close']"
   ]
  },
  {
   "cell_type": "code",
   "execution_count": 332,
   "id": "f0b482b8",
   "metadata": {},
   "outputs": [
    {
     "name": "stdout",
     "output_type": "stream",
     "text": [
      "False\n",
      "False\n",
      "False\n",
      "False\n"
     ]
    },
    {
     "ename": "KeyError",
     "evalue": "datetime.date(2013, 5, 2)",
     "output_type": "error",
     "traceback": [
      "\u001b[0;31m---------------------------------------------------------------------------\u001b[0m",
      "\u001b[0;31mKeyError\u001b[0m                                  Traceback (most recent call last)",
      "\u001b[0;32m<ipython-input-332-338e969345af>\u001b[0m in \u001b[0;36m<module>\u001b[0;34m\u001b[0m\n\u001b[1;32m      2\u001b[0m     \u001b[0;32mfor\u001b[0m \u001b[0mj\u001b[0m \u001b[0;32min\u001b[0m \u001b[0mdf3\u001b[0m\u001b[0;34m:\u001b[0m\u001b[0;34m\u001b[0m\u001b[0;34m\u001b[0m\u001b[0m\n\u001b[1;32m      3\u001b[0m         \u001b[0;32mif\u001b[0m \u001b[0mi\u001b[0m \u001b[0;34m==\u001b[0m \u001b[0mj\u001b[0m\u001b[0;34m:\u001b[0m\u001b[0;34m\u001b[0m\u001b[0;34m\u001b[0m\u001b[0m\n\u001b[0;32m----> 4\u001b[0;31m             \u001b[0mdf\u001b[0m\u001b[0;34m[\u001b[0m\u001b[0;34m'Close'\u001b[0m\u001b[0;34m]\u001b[0m \u001b[0;34m==\u001b[0m \u001b[0mdf1\u001b[0m\u001b[0;34m[\u001b[0m\u001b[0;34m\"Close\"\u001b[0m\u001b[0;34m]\u001b[0m\u001b[0;34m[\u001b[0m\u001b[0mi\u001b[0m\u001b[0;34m]\u001b[0m\u001b[0;34m\u001b[0m\u001b[0;34m\u001b[0m\u001b[0m\n\u001b[0m\u001b[1;32m      5\u001b[0m         \u001b[0;32melse\u001b[0m\u001b[0;34m:\u001b[0m\u001b[0;34m\u001b[0m\u001b[0;34m\u001b[0m\u001b[0m\n\u001b[1;32m      6\u001b[0m             \u001b[0mprint\u001b[0m\u001b[0;34m(\u001b[0m\u001b[0;34m\"False\"\u001b[0m\u001b[0;34m)\u001b[0m\u001b[0;34m\u001b[0m\u001b[0;34m\u001b[0m\u001b[0m\n",
      "\u001b[0;32m~/opt/anaconda3/lib/python3.8/site-packages/pandas/core/series.py\u001b[0m in \u001b[0;36m__getitem__\u001b[0;34m(self, key)\u001b[0m\n\u001b[1;32m    851\u001b[0m \u001b[0;34m\u001b[0m\u001b[0m\n\u001b[1;32m    852\u001b[0m         \u001b[0;32melif\u001b[0m \u001b[0mkey_is_scalar\u001b[0m\u001b[0;34m:\u001b[0m\u001b[0;34m\u001b[0m\u001b[0;34m\u001b[0m\u001b[0m\n\u001b[0;32m--> 853\u001b[0;31m             \u001b[0;32mreturn\u001b[0m \u001b[0mself\u001b[0m\u001b[0;34m.\u001b[0m\u001b[0m_get_value\u001b[0m\u001b[0;34m(\u001b[0m\u001b[0mkey\u001b[0m\u001b[0;34m)\u001b[0m\u001b[0;34m\u001b[0m\u001b[0;34m\u001b[0m\u001b[0m\n\u001b[0m\u001b[1;32m    854\u001b[0m \u001b[0;34m\u001b[0m\u001b[0m\n\u001b[1;32m    855\u001b[0m         \u001b[0;32mif\u001b[0m \u001b[0mis_hashable\u001b[0m\u001b[0;34m(\u001b[0m\u001b[0mkey\u001b[0m\u001b[0;34m)\u001b[0m\u001b[0;34m:\u001b[0m\u001b[0;34m\u001b[0m\u001b[0;34m\u001b[0m\u001b[0m\n",
      "\u001b[0;32m~/opt/anaconda3/lib/python3.8/site-packages/pandas/core/series.py\u001b[0m in \u001b[0;36m_get_value\u001b[0;34m(self, label, takeable)\u001b[0m\n\u001b[1;32m    959\u001b[0m \u001b[0;34m\u001b[0m\u001b[0m\n\u001b[1;32m    960\u001b[0m         \u001b[0;31m# Similar to Index.get_value, but we do not fall back to positional\u001b[0m\u001b[0;34m\u001b[0m\u001b[0;34m\u001b[0m\u001b[0;34m\u001b[0m\u001b[0m\n\u001b[0;32m--> 961\u001b[0;31m         \u001b[0mloc\u001b[0m \u001b[0;34m=\u001b[0m \u001b[0mself\u001b[0m\u001b[0;34m.\u001b[0m\u001b[0mindex\u001b[0m\u001b[0;34m.\u001b[0m\u001b[0mget_loc\u001b[0m\u001b[0;34m(\u001b[0m\u001b[0mlabel\u001b[0m\u001b[0;34m)\u001b[0m\u001b[0;34m\u001b[0m\u001b[0;34m\u001b[0m\u001b[0m\n\u001b[0m\u001b[1;32m    962\u001b[0m         \u001b[0;32mreturn\u001b[0m \u001b[0mself\u001b[0m\u001b[0;34m.\u001b[0m\u001b[0mindex\u001b[0m\u001b[0;34m.\u001b[0m\u001b[0m_get_values_for_loc\u001b[0m\u001b[0;34m(\u001b[0m\u001b[0mself\u001b[0m\u001b[0;34m,\u001b[0m \u001b[0mloc\u001b[0m\u001b[0;34m,\u001b[0m \u001b[0mlabel\u001b[0m\u001b[0;34m)\u001b[0m\u001b[0;34m\u001b[0m\u001b[0;34m\u001b[0m\u001b[0m\n\u001b[1;32m    963\u001b[0m \u001b[0;34m\u001b[0m\u001b[0m\n",
      "\u001b[0;32m~/opt/anaconda3/lib/python3.8/site-packages/pandas/core/indexes/range.py\u001b[0m in \u001b[0;36mget_loc\u001b[0;34m(self, key, method, tolerance)\u001b[0m\n\u001b[1;32m    352\u001b[0m                 \u001b[0;32mexcept\u001b[0m \u001b[0mValueError\u001b[0m \u001b[0;32mas\u001b[0m \u001b[0merr\u001b[0m\u001b[0;34m:\u001b[0m\u001b[0;34m\u001b[0m\u001b[0;34m\u001b[0m\u001b[0m\n\u001b[1;32m    353\u001b[0m                     \u001b[0;32mraise\u001b[0m \u001b[0mKeyError\u001b[0m\u001b[0;34m(\u001b[0m\u001b[0mkey\u001b[0m\u001b[0;34m)\u001b[0m \u001b[0;32mfrom\u001b[0m \u001b[0merr\u001b[0m\u001b[0;34m\u001b[0m\u001b[0;34m\u001b[0m\u001b[0m\n\u001b[0;32m--> 354\u001b[0;31m             \u001b[0;32mraise\u001b[0m \u001b[0mKeyError\u001b[0m\u001b[0;34m(\u001b[0m\u001b[0mkey\u001b[0m\u001b[0;34m)\u001b[0m\u001b[0;34m\u001b[0m\u001b[0;34m\u001b[0m\u001b[0m\n\u001b[0m\u001b[1;32m    355\u001b[0m         \u001b[0;32mreturn\u001b[0m \u001b[0msuper\u001b[0m\u001b[0;34m(\u001b[0m\u001b[0;34m)\u001b[0m\u001b[0;34m.\u001b[0m\u001b[0mget_loc\u001b[0m\u001b[0;34m(\u001b[0m\u001b[0mkey\u001b[0m\u001b[0;34m,\u001b[0m \u001b[0mmethod\u001b[0m\u001b[0;34m=\u001b[0m\u001b[0mmethod\u001b[0m\u001b[0;34m,\u001b[0m \u001b[0mtolerance\u001b[0m\u001b[0;34m=\u001b[0m\u001b[0mtolerance\u001b[0m\u001b[0;34m)\u001b[0m\u001b[0;34m\u001b[0m\u001b[0;34m\u001b[0m\u001b[0m\n\u001b[1;32m    356\u001b[0m \u001b[0;34m\u001b[0m\u001b[0m\n",
      "\u001b[0;31mKeyError\u001b[0m: datetime.date(2013, 5, 2)"
     ]
    }
   ],
   "source": [
    "for i in df:\n",
    "    for j in df3:\n",
    "        if i == j:\n",
    "            df['Close'] == df1[\"Close\"][i]\n",
    "        else:\n",
    "            print(\"False\")"
   ]
  },
  {
   "cell_type": "code",
   "execution_count": 316,
   "id": "043c3f70",
   "metadata": {},
   "outputs": [
    {
     "data": {
      "text/plain": [
       "0             NaN\n",
       "1             NaN\n",
       "2             NaN\n",
       "3             NaN\n",
       "4             NaN\n",
       "          ...    \n",
       "621    2013-05-02\n",
       "622    2013-05-01\n",
       "623    2013-04-30\n",
       "624    2013-04-29\n",
       "625    2013-04-28\n",
       "Name: d, Length: 626, dtype: object"
      ]
     },
     "execution_count": 316,
     "metadata": {},
     "output_type": "execute_result"
    }
   ],
   "source": [
    "df1[\"d\"]"
   ]
  },
  {
   "cell_type": "code",
   "execution_count": null,
   "id": "0ae7459a",
   "metadata": {},
   "outputs": [],
   "source": []
  }
 ],
 "metadata": {
  "kernelspec": {
   "display_name": "Python 3",
   "language": "python",
   "name": "python3"
  },
  "language_info": {
   "codemirror_mode": {
    "name": "ipython",
    "version": 3
   },
   "file_extension": ".py",
   "mimetype": "text/x-python",
   "name": "python",
   "nbconvert_exporter": "python",
   "pygments_lexer": "ipython3",
   "version": "3.8.8"
  }
 },
 "nbformat": 4,
 "nbformat_minor": 5
}
